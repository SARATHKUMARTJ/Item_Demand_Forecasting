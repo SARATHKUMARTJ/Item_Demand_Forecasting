{
  "cells": [
    {
      "cell_type": "markdown",
      "metadata": {
        "id": "view-in-github",
        "colab_type": "text"
      },
      "source": [
        "<a href=\"https://colab.research.google.com/github/SARATHKUMARTJ/Item_Demand_Forecasting/blob/main/My_Item_Demand_Forecasting.ipynb\" target=\"_parent\"><img src=\"https://colab.research.google.com/assets/colab-badge.svg\" alt=\"Open In Colab\"/></a>"
      ]
    },
    {
      "cell_type": "markdown",
      "metadata": {
        "id": "iO2HZH4Hipl8"
      },
      "source": [
        "**Accurate forecasting of demand can help the manufacturers to maintain appropriate stock which results in reduction in loss due to product not being sold and also reduces the opportunity cost (i.e. higher demand but less availability => opportunity lost)**"
      ]
    },
    {
      "cell_type": "markdown",
      "metadata": {
        "id": "q14mRPPkiw9D"
      },
      "source": [
        "Data fields\n",
        "\n",
        "*   **date**  - Date of the sale data. There are no holiday effects or store closures.\n",
        "\n",
        "*   **store** - Store ID\n",
        "\n",
        "*   **item**  - Item ID\n",
        "\n",
        "*  **sales**  - Number of items sold at a particular store on a particular date.\n",
        "\n",
        "\n",
        "\n",
        "\n",
        "\n",
        "\n",
        "\n",
        "\n",
        "\n"
      ]
    },
    {
      "cell_type": "markdown",
      "metadata": {
        "id": "LafnsnUNkPpP"
      },
      "source": [
        "**In this project, the goal is to forecast 3-month sales for 50 different products in 10 different stores when given 5 years of store item sales data.**"
      ]
    },
    {
      "cell_type": "code",
      "execution_count": 3,
      "metadata": {
        "id": "CYA1iYc87nLY"
      },
      "outputs": [],
      "source": [
        "# import libraries\n",
        "import pandas as pd\n",
        "import numpy as np\n",
        "import plotly.express as px\n",
        "import matplotlib.pyplot as plt\n",
        "import seaborn as sns\n",
        "from datetime import datetime\n",
        "from sklearn import linear_model\n",
        "from matplotlib.pyplot import figure\n"
      ]
    },
    {
      "cell_type": "code",
      "execution_count": null,
      "metadata": {
        "id": "tlgVH6lzoIWI"
      },
      "outputs": [],
      "source": [
        "df= pd.read_csv('/content/IDF.csv')\n",
        "df"
      ]
    },
    {
      "cell_type": "markdown",
      "metadata": {
        "id": "U5c4n7Akxx0Q"
      },
      "source": [
        "### **DATA CLEANING**"
      ]
    },
    {
      "cell_type": "code",
      "execution_count": null,
      "metadata": {
        "id": "Ez3zeOukqAiH"
      },
      "outputs": [],
      "source": [
        "df.info()"
      ]
    },
    {
      "cell_type": "markdown",
      "metadata": {
        "id": "G0RERzZTyDaQ"
      },
      "source": [
        "DATA HAS NO MISSING AND ZERO NULL VALUES FOR ALL COLUMNS SO NO NEED OF IMPUTE AND DROP THE DATA"
      ]
    },
    {
      "cell_type": "markdown",
      "metadata": {
        "id": "EtAT1--VynyA"
      },
      "source": [
        "*IN DATE COLUMN  CONVERTED OBJECT DATATYPE INTO DATETIME*"
      ]
    },
    {
      "cell_type": "code",
      "execution_count": 6,
      "metadata": {
        "id": "sq-b8hPkvhIT"
      },
      "outputs": [],
      "source": [
        "df['date']=pd.to_datetime(df['date'], errors='ignore')"
      ]
    },
    {
      "cell_type": "code",
      "execution_count": null,
      "metadata": {
        "id": "v-VcdEmExkmf"
      },
      "outputs": [],
      "source": [
        "df['date']"
      ]
    },
    {
      "cell_type": "markdown",
      "metadata": {
        "id": "Ed0KLd3bn6lH"
      },
      "source": [
        "UNDERSTANDING THE DATASET"
      ]
    },
    {
      "cell_type": "code",
      "execution_count": null,
      "metadata": {
        "colab": {
          "base_uri": "https://localhost:8080/"
        },
        "id": "KhwVUxnCUVqT",
        "outputId": "fabad4a1-f82e-4959-a1e5-436597e9e066"
      },
      "outputs": [
        {
          "output_type": "execute_result",
          "data": {
            "text/plain": [
              "array([ 1,  2,  3,  4,  5,  6,  7,  8,  9, 10])"
            ]
          },
          "metadata": {},
          "execution_count": 7
        }
      ],
      "source": [
        "df['store'].unique()\n"
      ]
    },
    {
      "cell_type": "code",
      "execution_count": null,
      "metadata": {
        "colab": {
          "base_uri": "https://localhost:8080/"
        },
        "id": "ySvZYUpaWHe5",
        "outputId": "287522ba-f247-4eaa-f4f0-8a3138e988b5"
      },
      "outputs": [
        {
          "output_type": "execute_result",
          "data": {
            "text/plain": [
              "10"
            ]
          },
          "metadata": {},
          "execution_count": 8
        }
      ],
      "source": [
        "df['store'].nunique()\n"
      ]
    },
    {
      "cell_type": "code",
      "execution_count": null,
      "metadata": {
        "id": "Zp8IWNMjWRvN"
      },
      "outputs": [],
      "source": [
        "df.groupby([\"store\"]).agg({\"sales\": [\"count\",\"sum\", \"mean\", \"median\", \"std\", \"min\", \"max\"]})"
      ]
    },
    {
      "cell_type": "code",
      "execution_count": null,
      "metadata": {
        "colab": {
          "base_uri": "https://localhost:8080/"
        },
        "id": "kFQ9bOwPWcHM",
        "outputId": "692222a3-a67e-453f-a413-66623ed85d59"
      },
      "outputs": [
        {
          "output_type": "execute_result",
          "data": {
            "text/plain": [
              "array([ 1,  2,  3,  4,  5,  6,  7,  8,  9, 10, 11, 12, 13, 14, 15, 16, 17,\n",
              "       18, 19, 20, 21, 22, 23, 24, 25, 26, 27, 28, 29, 30, 31, 32, 33, 34,\n",
              "       35, 36, 37, 38, 39, 40, 41, 42, 43, 44, 45, 46, 47, 48, 49, 50])"
            ]
          },
          "metadata": {},
          "execution_count": 10
        }
      ],
      "source": [
        "df.item.unique()"
      ]
    },
    {
      "cell_type": "code",
      "execution_count": null,
      "metadata": {
        "colab": {
          "base_uri": "https://localhost:8080/"
        },
        "id": "eQLv3Qc3Wf6j",
        "outputId": "c42b631e-7479-46e5-c5af-4c682a85e384"
      },
      "outputs": [
        {
          "output_type": "execute_result",
          "data": {
            "text/plain": [
              "50"
            ]
          },
          "metadata": {},
          "execution_count": 11
        }
      ],
      "source": [
        "df.item.nunique()"
      ]
    },
    {
      "cell_type": "code",
      "execution_count": null,
      "metadata": {
        "id": "_9IIPeMcWu4c"
      },
      "outputs": [],
      "source": [
        "df.groupby([\"item\"]).agg({\"sales\": [\"count\",\"sum\", \"mean\", \"median\", \"std\", \"min\", \"max\"]})"
      ]
    },
    {
      "cell_type": "markdown",
      "metadata": {
        "id": "HCqqENWA0gtb"
      },
      "source": [
        "*finding outliers*"
      ]
    },
    {
      "cell_type": "code",
      "execution_count": null,
      "metadata": {
        "id": "y7TEE7gk0flM"
      },
      "outputs": [],
      "source": [
        "df.describe()"
      ]
    },
    {
      "cell_type": "code",
      "execution_count": null,
      "metadata": {
        "colab": {
          "base_uri": "https://localhost:8080/"
        },
        "id": "FmbS4JW31HHt",
        "outputId": "581b8e15-8204-47ba-eb0e-44815674e876"
      },
      "outputs": [
        {
          "output_type": "execute_result",
          "data": {
            "text/plain": [
              "(15.5, -4.5)"
            ]
          },
          "metadata": {},
          "execution_count": 14
        }
      ],
      "source": [
        "iqr = df.store.quantile(0.75) - df.store.quantile(0.25)\n",
        "iqr\n",
        "upper_threshold = df.store.quantile(0.75) + (1.5 * iqr) # q3 + 1.5iqr\n",
        "lower_threshold = df.store.quantile(0.25) - (1.5 * iqr) # q1 - 1.5iqr\n",
        "upper_threshold,lower_threshold"
      ]
    },
    {
      "cell_type": "code",
      "execution_count": null,
      "metadata": {
        "id": "d6VkMK3V8uhG"
      },
      "outputs": [],
      "source": [
        "#plt.subplot(1, 2, 2)\n",
        "fig = px.box(df[\"store\"])\n",
        "fig.show()"
      ]
    },
    {
      "cell_type": "markdown",
      "metadata": {
        "id": "7Xzt0xhlHzBk"
      },
      "source": [
        "AS WE OBSERVED THE GRAPH THEIR  IS NO OUTLIERS IN THE STORE\n"
      ]
    },
    {
      "cell_type": "code",
      "execution_count": null,
      "metadata": {
        "colab": {
          "base_uri": "https://localhost:8080/"
        },
        "id": "lxRAITR4xn3F",
        "outputId": "bf4310a9-bd56-48ce-8456-d751a6f3729f"
      },
      "outputs": [
        {
          "output_type": "execute_result",
          "data": {
            "text/plain": [
              "(75.5, -24.5)"
            ]
          },
          "metadata": {},
          "execution_count": 16
        }
      ],
      "source": [
        "iqr = df.item.quantile(0.75) - df.item.quantile(0.25)\n",
        "iqr\n",
        "upper_threshold = df.item.quantile(0.75) + (1.5 * iqr) # q3 + 1.5iqr\n",
        "lower_threshold = df.item.quantile(0.25) - (1.5 * iqr) # q1 - 1.5iqr\n",
        "upper_threshold,lower_threshold"
      ]
    },
    {
      "cell_type": "code",
      "execution_count": null,
      "metadata": {
        "id": "jFr2cyvW9Ave"
      },
      "outputs": [],
      "source": [
        "#plt.subplot(1, 2, 2)\n",
        "fig = px.box(df[\"item\"])\n",
        "fig.show()"
      ]
    },
    {
      "cell_type": "markdown",
      "metadata": {
        "id": "DVGaTpRGIHy9"
      },
      "source": [
        "AS WE OBSERVED THE GRAPH THEIR  IS NO OUTLIERS IN THE ITEM\n",
        "\n"
      ]
    },
    {
      "cell_type": "code",
      "execution_count": null,
      "metadata": {
        "colab": {
          "base_uri": "https://localhost:8080/"
        },
        "id": "az6FsohB3Z_M",
        "outputId": "9a0e6dbb-2e74-459c-f028-61adc5dff385"
      },
      "outputs": [
        {
          "output_type": "execute_result",
          "data": {
            "text/plain": [
              "(130.0, -30.0)"
            ]
          },
          "metadata": {},
          "execution_count": 18
        }
      ],
      "source": [
        "iqr = df.sales.quantile(0.75) - df.sales.quantile(0.25)\n",
        "iqr\n",
        "upper_threshold = df.sales.quantile(0.75) + (1.5 * iqr) # q3 + 1.5iqr\n",
        "lower_threshold = df.sales.quantile(0.25) - (1.5 * iqr) # q1 - 1.5iqr\n",
        "upper_threshold,lower_threshold"
      ]
    },
    {
      "cell_type": "code",
      "execution_count": null,
      "metadata": {
        "id": "GWSWvixY9R7P"
      },
      "outputs": [],
      "source": [
        "#ply.boxplot(df['sales'])\n",
        "#plt.show()\n",
        "\n",
        "fig = px.box(df[\"sales\"])\n",
        "fig.show()"
      ]
    },
    {
      "cell_type": "markdown",
      "metadata": {
        "id": "bz9c2a1wIVvN"
      },
      "source": [
        "AS WE OBSERVED THE GRAPH THEIR  IS  OUTLIERS IN THE SALES NEED TO CLIP \n"
      ]
    },
    {
      "cell_type": "code",
      "execution_count": null,
      "metadata": {
        "id": "_LpTwHV_0xa4"
      },
      "outputs": [],
      "source": [
        "df.sales = df.sales.clip(upper_threshold,lower_threshold)\n",
        "df.sales\n",
        "fig = px.box(df[\"sales\"])\n",
        "fig.show()"
      ]
    },
    {
      "cell_type": "markdown",
      "metadata": {
        "id": "6Vwye6IuJM-q"
      },
      "source": [
        "AFTER CLIPPING NO OUTLIERS FOUND"
      ]
    },
    {
      "cell_type": "code",
      "execution_count": null,
      "metadata": {
        "colab": {
          "base_uri": "https://localhost:8080/",
          "height": 300
        },
        "id": "e-jwRzi94AGM",
        "outputId": "7df1fbe0-9dc8-428d-e4f4-9302eec2096c"
      },
      "outputs": [
        {
          "output_type": "execute_result",
          "data": {
            "text/plain": [
              "               store           item          sales\n",
              "count  913000.000000  913000.000000  913000.000000\n",
              "mean        5.500000      25.500000      52.067088\n",
              "std         2.872283      14.430878      28.223040\n",
              "min         1.000000       1.000000       0.000000\n",
              "25%         3.000000      13.000000      30.000000\n",
              "50%         5.500000      25.500000      47.000000\n",
              "75%         8.000000      38.000000      70.000000\n",
              "max        10.000000      50.000000     130.000000"
            ],
            "text/html": [
              "\n",
              "  <div id=\"df-b5f0c25e-f5f2-4adf-b206-1a7cd3333134\">\n",
              "    <div class=\"colab-df-container\">\n",
              "      <div>\n",
              "<style scoped>\n",
              "    .dataframe tbody tr th:only-of-type {\n",
              "        vertical-align: middle;\n",
              "    }\n",
              "\n",
              "    .dataframe tbody tr th {\n",
              "        vertical-align: top;\n",
              "    }\n",
              "\n",
              "    .dataframe thead th {\n",
              "        text-align: right;\n",
              "    }\n",
              "</style>\n",
              "<table border=\"1\" class=\"dataframe\">\n",
              "  <thead>\n",
              "    <tr style=\"text-align: right;\">\n",
              "      <th></th>\n",
              "      <th>store</th>\n",
              "      <th>item</th>\n",
              "      <th>sales</th>\n",
              "    </tr>\n",
              "  </thead>\n",
              "  <tbody>\n",
              "    <tr>\n",
              "      <th>count</th>\n",
              "      <td>913000.000000</td>\n",
              "      <td>913000.000000</td>\n",
              "      <td>913000.000000</td>\n",
              "    </tr>\n",
              "    <tr>\n",
              "      <th>mean</th>\n",
              "      <td>5.500000</td>\n",
              "      <td>25.500000</td>\n",
              "      <td>52.067088</td>\n",
              "    </tr>\n",
              "    <tr>\n",
              "      <th>std</th>\n",
              "      <td>2.872283</td>\n",
              "      <td>14.430878</td>\n",
              "      <td>28.223040</td>\n",
              "    </tr>\n",
              "    <tr>\n",
              "      <th>min</th>\n",
              "      <td>1.000000</td>\n",
              "      <td>1.000000</td>\n",
              "      <td>0.000000</td>\n",
              "    </tr>\n",
              "    <tr>\n",
              "      <th>25%</th>\n",
              "      <td>3.000000</td>\n",
              "      <td>13.000000</td>\n",
              "      <td>30.000000</td>\n",
              "    </tr>\n",
              "    <tr>\n",
              "      <th>50%</th>\n",
              "      <td>5.500000</td>\n",
              "      <td>25.500000</td>\n",
              "      <td>47.000000</td>\n",
              "    </tr>\n",
              "    <tr>\n",
              "      <th>75%</th>\n",
              "      <td>8.000000</td>\n",
              "      <td>38.000000</td>\n",
              "      <td>70.000000</td>\n",
              "    </tr>\n",
              "    <tr>\n",
              "      <th>max</th>\n",
              "      <td>10.000000</td>\n",
              "      <td>50.000000</td>\n",
              "      <td>130.000000</td>\n",
              "    </tr>\n",
              "  </tbody>\n",
              "</table>\n",
              "</div>\n",
              "      <button class=\"colab-df-convert\" onclick=\"convertToInteractive('df-b5f0c25e-f5f2-4adf-b206-1a7cd3333134')\"\n",
              "              title=\"Convert this dataframe to an interactive table.\"\n",
              "              style=\"display:none;\">\n",
              "        \n",
              "  <svg xmlns=\"http://www.w3.org/2000/svg\" height=\"24px\"viewBox=\"0 0 24 24\"\n",
              "       width=\"24px\">\n",
              "    <path d=\"M0 0h24v24H0V0z\" fill=\"none\"/>\n",
              "    <path d=\"M18.56 5.44l.94 2.06.94-2.06 2.06-.94-2.06-.94-.94-2.06-.94 2.06-2.06.94zm-11 1L8.5 8.5l.94-2.06 2.06-.94-2.06-.94L8.5 2.5l-.94 2.06-2.06.94zm10 10l.94 2.06.94-2.06 2.06-.94-2.06-.94-.94-2.06-.94 2.06-2.06.94z\"/><path d=\"M17.41 7.96l-1.37-1.37c-.4-.4-.92-.59-1.43-.59-.52 0-1.04.2-1.43.59L10.3 9.45l-7.72 7.72c-.78.78-.78 2.05 0 2.83L4 21.41c.39.39.9.59 1.41.59.51 0 1.02-.2 1.41-.59l7.78-7.78 2.81-2.81c.8-.78.8-2.07 0-2.86zM5.41 20L4 18.59l7.72-7.72 1.47 1.35L5.41 20z\"/>\n",
              "  </svg>\n",
              "      </button>\n",
              "      \n",
              "  <style>\n",
              "    .colab-df-container {\n",
              "      display:flex;\n",
              "      flex-wrap:wrap;\n",
              "      gap: 12px;\n",
              "    }\n",
              "\n",
              "    .colab-df-convert {\n",
              "      background-color: #E8F0FE;\n",
              "      border: none;\n",
              "      border-radius: 50%;\n",
              "      cursor: pointer;\n",
              "      display: none;\n",
              "      fill: #1967D2;\n",
              "      height: 32px;\n",
              "      padding: 0 0 0 0;\n",
              "      width: 32px;\n",
              "    }\n",
              "\n",
              "    .colab-df-convert:hover {\n",
              "      background-color: #E2EBFA;\n",
              "      box-shadow: 0px 1px 2px rgba(60, 64, 67, 0.3), 0px 1px 3px 1px rgba(60, 64, 67, 0.15);\n",
              "      fill: #174EA6;\n",
              "    }\n",
              "\n",
              "    [theme=dark] .colab-df-convert {\n",
              "      background-color: #3B4455;\n",
              "      fill: #D2E3FC;\n",
              "    }\n",
              "\n",
              "    [theme=dark] .colab-df-convert:hover {\n",
              "      background-color: #434B5C;\n",
              "      box-shadow: 0px 1px 3px 1px rgba(0, 0, 0, 0.15);\n",
              "      filter: drop-shadow(0px 1px 2px rgba(0, 0, 0, 0.3));\n",
              "      fill: #FFFFFF;\n",
              "    }\n",
              "  </style>\n",
              "\n",
              "      <script>\n",
              "        const buttonEl =\n",
              "          document.querySelector('#df-b5f0c25e-f5f2-4adf-b206-1a7cd3333134 button.colab-df-convert');\n",
              "        buttonEl.style.display =\n",
              "          google.colab.kernel.accessAllowed ? 'block' : 'none';\n",
              "\n",
              "        async function convertToInteractive(key) {\n",
              "          const element = document.querySelector('#df-b5f0c25e-f5f2-4adf-b206-1a7cd3333134');\n",
              "          const dataTable =\n",
              "            await google.colab.kernel.invokeFunction('convertToInteractive',\n",
              "                                                     [key], {});\n",
              "          if (!dataTable) return;\n",
              "\n",
              "          const docLinkHtml = 'Like what you see? Visit the ' +\n",
              "            '<a target=\"_blank\" href=https://colab.research.google.com/notebooks/data_table.ipynb>data table notebook</a>'\n",
              "            + ' to learn more about interactive tables.';\n",
              "          element.innerHTML = '';\n",
              "          dataTable['output_type'] = 'display_data';\n",
              "          await google.colab.output.renderOutput(dataTable, element);\n",
              "          const docLink = document.createElement('div');\n",
              "          docLink.innerHTML = docLinkHtml;\n",
              "          element.appendChild(docLink);\n",
              "        }\n",
              "      </script>\n",
              "    </div>\n",
              "  </div>\n",
              "  "
            ]
          },
          "metadata": {},
          "execution_count": 21
        }
      ],
      "source": [
        "df.describe()"
      ]
    },
    {
      "cell_type": "code",
      "execution_count": null,
      "metadata": {
        "id": "vX7b3pGP0aeN"
      },
      "outputs": [],
      "source": [
        "plt.subplots(figsize=(12, 5))\n",
        "plt.subplot(1, 2, 1)\n",
        "sns.distplot(df['sales'])\n",
        "  \n",
        "plt.subplot(1, 2, 2)\n",
        "sns.boxplot(df['sales'])\n",
        "plt.show()"
      ]
    },
    {
      "cell_type": "code",
      "execution_count": null,
      "metadata": {
        "id": "JfepU0uXYdzu"
      },
      "outputs": [],
      "source": [
        "df"
      ]
    },
    {
      "cell_type": "markdown",
      "metadata": {
        "id": "E9Jtew_OMr0k"
      },
      "source": [
        "## **TASK JAR**\n",
        "\n",
        ">*Finding Linear*\n",
        "\n"
      ]
    },
    {
      "cell_type": "code",
      "execution_count": null,
      "metadata": {
        "id": "FCZERc14NBU3"
      },
      "outputs": [],
      "source": [
        "df.plot(x='item', y='sales', style='o')\n",
        "plt.title('item vs sales')\n",
        "plt.xlabel('item')\n",
        "plt.ylabel('sales')\n",
        "plt.show()"
      ]
    },
    {
      "cell_type": "code",
      "execution_count": null,
      "metadata": {
        "id": "w1jtyhK9RlZi"
      },
      "outputs": [],
      "source": [
        "df.plot(x='store', y='sales', style='o')\n",
        "plt.title('store vs sales')\n",
        "plt.xlabel('store')\n",
        "plt.ylabel('sales')\n",
        "plt.show()"
      ]
    },
    {
      "cell_type": "code",
      "execution_count": null,
      "metadata": {
        "id": "1_IgKd4aR6WH"
      },
      "outputs": [],
      "source": [
        "df.plot(x='date', y='sales', style='o')\n",
        "plt.title('date vs sales')\n",
        "plt.xlabel('date')\n",
        "plt.ylabel('sales')\n",
        "plt.show()"
      ]
    },
    {
      "cell_type": "code",
      "execution_count": null,
      "metadata": {
        "id": "aYnGAxRTblH7"
      },
      "outputs": [],
      "source": [
        "sales_by_item = df.groupby('item')['sales'].sum().reset_index()\n",
        "sales_by_item"
      ]
    },
    {
      "cell_type": "code",
      "execution_count": null,
      "metadata": {
        "id": "FDeIA2VsY93s"
      },
      "outputs": [],
      "source": [
        "#sales_by_item = df.groupby('item')['sales'].sum().reset_index()\n",
        "fig, ax = plt.subplots(figsize=(20,8))\n",
        "sns.barplot(sales_by_item.item, sales_by_item.sales, order=sales_by_item.sort_values('sales', ascending = False).item)\n",
        "    \n",
        "#ax.set(xlabel = \"Item Id\", ylabel = \"Sum of Sales\", title = \"Total Sales Per Item\")\n",
        "#plt.xticks(fontsize=12, rotation=90)"
      ]
    },
    {
      "cell_type": "code",
      "execution_count": null,
      "metadata": {
        "id": "-suNNJ0nbxNs"
      },
      "outputs": [],
      "source": [
        "sales_by_store = df.groupby('store')['sales'].sum().reset_index()\n",
        "sales_by_store "
      ]
    },
    {
      "cell_type": "code",
      "execution_count": null,
      "metadata": {
        "id": "QsG_V2Upb_1z"
      },
      "outputs": [],
      "source": [
        "fig, ax = plt.subplots(figsize=(10,6))\n",
        "sns.barplot(sales_by_store.store, sales_by_store.sales, order=sales_by_store.sort_values('sales',ascending = False).store)\n",
        "    \n",
        "#ax.set(xlabel = \"Store Id\", ylabel = \"Sum of Sales\", title = \"Total Sales Per Store\")\n",
        "#plt.xticks(fontsize=12, rotation=45)"
      ]
    },
    {
      "cell_type": "code",
      "source": [
        "figure(figsize=(18, 4), dpi=80)\n",
        "item_daily = df.groupby([\"date\",\"store\"],as_index=False).agg({\"sales\":\"sum\"})\n",
        "\n",
        "item_daily['date'] = pd.to_datetime(item_daily.date, format='%Y/%m/%d')\n",
        "item_1 = item_daily[item_daily['store']==1]\n",
        "ax_2 = sns.scatterplot(data=item_1,x='date',y='sales')\n",
        "ax_2.set_ylabel(\"Sales/store\")"
      ],
      "metadata": {
        "id": "n-h-0CQTgy_A"
      },
      "execution_count": null,
      "outputs": []
    },
    {
      "cell_type": "code",
      "source": [
        "figure(figsize=(18, 4), dpi=80)\n",
        "item_daily = df.groupby([\"date\",\"item\"],as_index=False).agg({\"sales\":\"sum\"})\n",
        "\n",
        "item_daily['date'] = pd.to_datetime(item_daily.date, format='%Y/%m/%d')\n",
        "item_1 = item_daily[item_daily['item']==1]\n",
        "ax_2 = sns.scatterplot(data=item_1,x='date',y='sales')\n",
        "ax_2.set_ylabel(\"Sales/Item_1\")"
      ],
      "metadata": {
        "id": "WamAydaVdV5_"
      },
      "execution_count": null,
      "outputs": []
    },
    {
      "cell_type": "markdown",
      "metadata": {
        "id": "FOt5X-g_YCNE"
      },
      "source": [
        "**Feature Engineering**"
      ]
    },
    {
      "cell_type": "code",
      "execution_count": null,
      "metadata": {
        "id": "pb4L1sbsYH6j"
      },
      "outputs": [],
      "source": [
        "# Convert the date column to a datetime object\n",
        "df['date'] = pd.to_datetime(df['date'])"
      ]
    },
    {
      "cell_type": "code",
      "execution_count": null,
      "metadata": {
        "id": "hVCWSAovYSkX"
      },
      "outputs": [],
      "source": [
        "# Create new columns for year, month, and day\n",
        "df['year'] = df['date'].dt.year\n",
        "df['month'] = df['date'].dt.month\n",
        "df['day'] = df['date'].dt.day"
      ]
    },
    {
      "cell_type": "code",
      "source": [
        "\n",
        "from datetime import datetime\n",
        "import calendar\n",
        "      \n",
        "def weekend_or_weekday(year,month,day):\n",
        "      \n",
        "    d = datetime(year,month,day)\n",
        "    if d.weekday()>4:\n",
        "        return 1\n",
        "    else:\n",
        "        return 0\n",
        "  \n",
        "df['weekend'] = df.apply(lambda x:weekend_or_weekday(x['year'], x['month'], x['day']), axis=1)\n",
        "df.head()"
      ],
      "metadata": {
        "id": "qE5gCKd0hUy3"
      },
      "execution_count": null,
      "outputs": []
    },
    {
      "cell_type": "code",
      "source": [
        "from datetime import date\n",
        "import holidays\n",
        "def is_holiday(x):\n",
        "    india_holidays = holidays.country_holidays('IN')\n",
        "    if india_holidays.get(x):\n",
        "      return 1\n",
        "    else:\n",
        "      return 0\n",
        "df['holidays'] = df['date'].apply(is_holiday)\n",
        "df.head()"
      ],
      "metadata": {
        "id": "slRc0yGthcAQ"
      },
      "execution_count": null,
      "outputs": []
    },
    {
      "cell_type": "code",
      "source": [
        "\n",
        "def which_day(year, month, day):\n",
        "      \n",
        "    d = datetime(year,month,day)\n",
        "    return d.weekday()\n",
        "  \n",
        "df['weekday'] = df.apply(lambda x: which_day(x['year'],x['month'],x['day']),axis=1)\n",
        "df.head()"
      ],
      "metadata": {
        "id": "I93IdVRLhmDg"
      },
      "execution_count": null,
      "outputs": []
    },
    {
      "cell_type": "code",
      "source": [
        "features = ['store', 'year', 'month',\\\n",
        "            'weekday', 'weekend','holidays' ]\n",
        "  \n",
        "plt.subplots(figsize=(20, 10))\n",
        "for i, col in enumerate(features):\n",
        "    plt.subplot(2, 3, i + 1)\n",
        "    df.groupby(col).mean()['sales'].plot.bar()\n",
        "plt.show()"
      ],
      "metadata": {
        "id": "aleX6Vyii34w"
      },
      "execution_count": null,
      "outputs": []
    },
    {
      "cell_type": "code",
      "execution_count": null,
      "metadata": {
        "id": "uhKEpFmIeYnL"
      },
      "outputs": [],
      "source": [
        "item_i = df[df['item']==3]\n",
        "item_i"
      ]
    },
    {
      "cell_type": "code",
      "execution_count": null,
      "metadata": {
        "id": "zjWNJrnggWLZ"
      },
      "outputs": [],
      "source": [
        "k = item_i.groupby(['date','item'])\n",
        "item_1 = k.agg(sum)\n",
        "item_1=item_1.reset_index()\n",
        "j=[]\n",
        "for i in range(89, len(item_1)):\n",
        "    b = item_1['date'][0+i] # 0 is the starting date and 0+i is the end date\n",
        "    j.append(b)\n",
        "item = item_1.head(1737) # doubt\n",
        "item['end']=j    # doubt\n",
        "date_list = df['date'].to_list()\n",
        "d =[]\n",
        "for i in range(1737):\n",
        "     r = item.loc[i, 'end']\n",
        "     a = date_list.index(r)\n",
        "     c =item_1.loc[i:a,'sales'].sum()\n",
        "     d.append(c)\n",
        "item['total'] = d\n",
        "item['date'] = pd.to_datetime(item['date'])\n",
        "item['year'] = item['date'].dt.year\n",
        "item['month'] = item['date'].dt.month\n",
        "item['day'] = item['date'].dt.day"
      ]
    },
    {
      "cell_type": "code",
      "execution_count": null,
      "metadata": {
        "id": "2XgsqeQcae_W"
      },
      "outputs": [],
      "source": [
        "item"
      ]
    },
    {
      "cell_type": "markdown",
      "metadata": {
        "id": "CbIlp1UTefaU"
      },
      "source": [
        "splitting the data into train and test"
      ]
    },
    {
      "cell_type": "code",
      "execution_count": null,
      "metadata": {
        "id": "sMbZfiKzetPM"
      },
      "outputs": [],
      "source": [
        "x =  item.loc[:,['year','month','day']].values\n",
        "y = item.loc[:,'total'].values\n",
        "from sklearn.model_selection import train_test_split\n",
        "x_train,x_test,y_train,y_test = train_test_split(x,y,test_size =0.25)"
      ]
    },
    {
      "cell_type": "markdown",
      "metadata": {
        "id": "Vn-arUFTe9iH"
      },
      "source": [
        "SCALING "
      ]
    },
    {
      "cell_type": "code",
      "execution_count": null,
      "metadata": {
        "id": "2t5kjmHSe9Ev"
      },
      "outputs": [],
      "source": [
        "from sklearn.preprocessing import StandardScaler ## standrard scalig \n",
        "scaler = StandardScaler() #initialise to a variable\n",
        "scaler.fit(x_train) # we are finding the values of mean and sd from the td\n",
        "x_train = scaler.transform(x_train) # fit (mean, sd) and then transform the training data\n",
        "x_test= scaler.transform(x_test) # transform the test data "
      ]
    },
    {
      "cell_type": "markdown",
      "metadata": {
        "id": "JnKyXSBNfFaw"
      },
      "source": [
        "FITTING LINEAR REGRESSOR"
      ]
    },
    {
      "cell_type": "code",
      "execution_count": null,
      "metadata": {
        "colab": {
          "base_uri": "https://localhost:8080/"
        },
        "id": "RVMaVrsSfUAv",
        "outputId": "eb285685-77b4-4cf4-de79-5e913932fad5"
      },
      "outputs": [
        {
          "output_type": "stream",
          "name": "stdout",
          "text": [
            "score for Linear Regression: 0.3516958579191266\n"
          ]
        }
      ],
      "source": [
        "from sklearn.linear_model import LinearRegression\n",
        "linear =LinearRegression()\n",
        "linear.fit(x_train,y_train)\n",
        "print('score for Linear Regression:',linear.score(x_test,y_test))"
      ]
    },
    {
      "cell_type": "markdown",
      "metadata": {
        "id": "Qf6I_jnifYcn"
      },
      "source": [
        "Decision Tree Regressor"
      ]
    },
    {
      "cell_type": "code",
      "execution_count": null,
      "metadata": {
        "id": "FnhrGxYPfZgj",
        "colab": {
          "base_uri": "https://localhost:8080/"
        },
        "outputId": "fd1dd316-e1ce-422b-f348-d828a7600efb"
      },
      "outputs": [
        {
          "name": "stdout",
          "output_type": "stream",
          "text": [
            "Depth: 1 Train R2: 0.331759141389831 Val Score: 0.3207263341201472\n",
            "Depth: 2 Train R2: 0.5673615359427555 Val Score: 0.5325261325081809\n",
            "Depth: 3 Train R2: 0.7668734007645478 Val Score: 0.7497929278153517\n",
            "Depth: 4 Train R2: 0.8739516808974007 Val Score: 0.8721695101922512\n",
            "Depth: 5 Train R2: 0.9374246871382257 Val Score: 0.9366783769078886\n",
            "Depth: 6 Train R2: 0.9665410845527251 Val Score: 0.963674451534802\n",
            "Depth: 7 Train R2: 0.9861400814278374 Val Score: 0.9825633532502355\n",
            "Depth: 8 Train R2: 0.9941695432363306 Val Score: 0.9909371432005691\n",
            "Depth: 9 Train R2: 0.9975836980153664 Val Score: 0.9950186258324182\n",
            "Depth: 10 Train R2: 0.9993371418736229 Val Score: 0.9967452908340733\n",
            "Depth: 20 Train R2: 1.0 Val Score: 0.9976276547939857\n",
            "Depth: 40 Train R2: 1.0 Val Score: 0.9976276547939857\n",
            "Depth: 60 Train R2: 1.0 Val Score: 0.9976276547939857\n",
            "max depth value7\n"
          ]
        },
        {
          "output_type": "execute_result",
          "data": {
            "text/plain": [
              "DecisionTreeRegressor(max_depth=7)"
            ]
          },
          "metadata": {},
          "execution_count": 51
        }
      ],
      "source": [
        "from sklearn.metrics import make_scorer\n",
        "from sklearn.metrics import accuracy_score\n",
        "from sklearn.model_selection import cross_val_score\n",
        "from sklearn.tree import DecisionTreeRegressor\n",
        "from sklearn.metrics import r2_score\n",
        "\n",
        "for depth in [1,2,3,4,5,6,7,8,9,10,20,40,60]:\n",
        "  dt = DecisionTreeRegressor(max_depth=depth)\n",
        "  dt.fit(x_train,y_train)\n",
        "  trainAccuracy = r2_score(y_train,dt.predict(x_train))\n",
        "  dt = DecisionTreeRegressor(max_depth = depth)\n",
        "  valAccuracy = cross_val_score(dt, x_train, y_train, cv=10, scoring = make_scorer(r2_score))\n",
        "  print(\"Depth:\",depth,'Train R2:',trainAccuracy,'Val Score:',np.mean(valAccuracy))\n",
        "dt = DecisionTreeRegressor(max_depth = int(input('max depth value')))\n",
        "dt.fit(x_train,y_train)\n",
        "#print('score for Decision Treeregressor:',dt.score(x_test,y_test))"
      ]
    },
    {
      "cell_type": "markdown",
      "metadata": {
        "id": "cLtewbgmftdS"
      },
      "source": [
        "KNeighborsRegressor"
      ]
    },
    {
      "cell_type": "code",
      "execution_count": null,
      "metadata": {
        "id": "zQnPu1aUfyYk",
        "colab": {
          "base_uri": "https://localhost:8080/"
        },
        "outputId": "eef5d0b4-bb65-4482-d3ca-a48f87c25bd1"
      },
      "outputs": [
        {
          "name": "stdout",
          "output_type": "stream",
          "text": [
            "k value: 1 train score: 1.0 cv score: 0.9947139489485716\n",
            "k value: 2 train score: 0.9992117826845966 cv score: 0.9906568886740837\n",
            "k value: 3 train score: 0.9976249761448945 cv score: 0.9846643104253611\n",
            "k value: 4 train score: 0.9944892072983942 cv score: 0.9811921641601069\n",
            "k value: 5 train score: 0.9912125511000343 cv score: 0.9777273084802196\n",
            "k value: 6 train score: 0.9878035887455066 cv score: 0.9760886595655908\n",
            "k value: 7 train score: 0.9852831213627008 cv score: 0.9757293378408125\n",
            "k value: 8 train score: 0.9838483644982986 cv score: 0.9742088991858985\n",
            "k value: 9 train score: 0.9834030524256628 cv score: 0.9718755996925065\n",
            "k value: 10 train score: 0.9818160113084127 cv score: 0.9701070322978147\n",
            "k value: 20 train score: 0.9601711540083331 cv score: 0.9493580482060391\n",
            "k value: 50 train score: 0.9344672809647872 cv score: 0.9219162084683612\n",
            "enter k values:10\n"
          ]
        },
        {
          "output_type": "execute_result",
          "data": {
            "text/plain": [
              "KNeighborsRegressor(n_neighbors=10)"
            ]
          },
          "metadata": {},
          "execution_count": 52
        }
      ],
      "source": [
        "#from sklearn.neighbors import KNeighborsClassifier\n",
        "from sklearn.neighbors import KNeighborsRegressor\n",
        "from sklearn.metrics import make_scorer\n",
        "from sklearn.metrics import accuracy_score\n",
        "for i in [1,2,3,4,5,6,7,8,9,10,20,50]:\n",
        "  knn = KNeighborsRegressor(i)\n",
        "  knn.fit(x_train,y_train)\n",
        "  print('k value:',i ,'train score:',knn.score(x_train,y_train),'cv score:',np.mean(cross_val_score(knn, x_train, y_train, cv=10, scoring = make_scorer(r2_score))))\n",
        "knn =KNeighborsRegressor(int(input('enter k values:')))\n",
        "knn.fit(x_train,y_train)\n",
        "#print('score for knn regression :',knn.score(x_test,y_test))"
      ]
    },
    {
      "cell_type": "markdown",
      "metadata": {
        "id": "FOb--Lt4f3aQ"
      },
      "source": [
        "!pip install -U scikit-learn"
      ]
    },
    {
      "cell_type": "code",
      "execution_count": null,
      "metadata": {
        "id": "v4pT0NQ_f8rw"
      },
      "outputs": [],
      "source": [
        "!pip install -U scikit-learn"
      ]
    },
    {
      "cell_type": "code",
      "execution_count": null,
      "metadata": {
        "colab": {
          "base_uri": "https://localhost:8080/"
        },
        "id": "0afOy--sgG-x",
        "outputId": "4b4f5b9d-e1c4-4950-8ae4-5fb46d17edc2"
      },
      "outputs": [
        {
          "output_type": "stream",
          "name": "stdout",
          "text": [
            "Learning rate: 0.01 Train score -3.3354036462639804 Cross-Val score: -3.4309738747735126\n",
            "Learning rate: 0.02 Train score 0.3733168956637243 Cross-Val score: 0.3565095013945786\n",
            "Learning rate: 0.03 Train score 0.8930563020925969 Cross-Val score: 0.8892427335609773\n",
            "Learning rate: 0.04 Train score 0.9707062937137009 Cross-Val score: 0.9685348777056836\n",
            "Learning rate: 0.05 Train score 0.9858735467623858 Cross-Val score: 0.9840552614536613\n",
            "Learning rate: 0.06 Train score 0.9911608948619217 Cross-Val score: 0.9897937538219244\n",
            "Learning rate: 0.07 Train score 0.9943511463862982 Cross-Val score: 0.9932252247448463\n",
            "Learning rate: 0.08 Train score 0.9962062601601827 Cross-Val score: 0.995124459796893\n",
            "Learning rate: 0.09 Train score 0.9970431921870445 Cross-Val score: 0.9959919473261782\n",
            "Learning rate: 0.1 Train score 0.9975691246954981 Cross-Val score: 0.9965575463477279\n",
            "Learning rate: 0.11 Train score 0.99756641319123 Cross-Val score: 0.9966483693997692\n",
            "Learning rate: 0.12 Train score 0.998089329841798 Cross-Val score: 0.9969649369730043\n",
            "Learning rate: 0.13 Train score 0.9981389360698874 Cross-Val score: 0.9971917356309321\n",
            "Learning rate: 0.14 Train score 0.998433446518903 Cross-Val score: 0.9972010674698014\n",
            "Learning rate: 0.15 Train score 0.9981244593573828 Cross-Val score: 0.9974316452433165\n",
            "Learning rate: 0.2 Train score 0.99888246424901 Cross-Val score: 0.998174418393115\n",
            "Learning rate: 0.5 Train score 0.9993940896771853 Cross-Val score: 0.9990374974169413\n",
            "Learning rate: 0.7 Train score 0.9996492141934221 Cross-Val score: 0.9992086614756005\n",
            "Learning rate: 1 Train score 0.999590724077889 Cross-Val score: 0.9988831459967062\n",
            "LR value0.7\n",
            "[17:47:35] WARNING: /workspace/src/objective/regression_obj.cu:152: reg:linear is now deprecated in favor of reg:squarederror.\n"
          ]
        },
        {
          "output_type": "execute_result",
          "data": {
            "text/plain": [
              "XGBRegressor(learning_rate=0.7)"
            ]
          },
          "metadata": {},
          "execution_count": 54
        }
      ],
      "source": [
        "from xgboost import XGBRegressor\n",
        "import xgboost as xgb\n",
        "\n",
        "for lr in [0.01,0.02,0.03,0.04,0.05,0.06,0.07,0.08,0.09,0.1,0.11,0.12,0.13,0.14,0.15,0.2,0.5,0.7,1]:\n",
        "  model = xgb.XGBRegressor(learning_rate = lr,n_estimators =100,verbosity =0)#initialise the model\n",
        "  model.fit(x_train,y_train)\n",
        "  model.score(x_test,y_test)\n",
        "  print('Learning rate:',lr,\"Train score\",model.score(x_train,y_train),'Cross-Val score:',np.mean(cross_val_score(model,x_train,y_train,cv=10)))\n",
        "model = xgb.XGBRegressor(learning_rate = float(input('LR value')),n_estimators =100) \n",
        "model.fit(x_train,y_train)\n",
        "\n",
        "#print('score for the XGBRegressor:',model.score(x_test,y_test))"
      ]
    },
    {
      "cell_type": "code",
      "source": [
        "print('Score for the Linear Regressor       :',linear.score(x_test,y_test))    \n",
        "print('Score for the Decision TreeRegressor :',dt.score(x_test,y_test))    \n",
        "print('Score for the KNN Regressor          :',knn.score(x_test,y_test)) \n",
        "print('Score for the XGBRegressor           :',model.score(x_test,y_test))"
      ],
      "metadata": {
        "colab": {
          "base_uri": "https://localhost:8080/"
        },
        "id": "jXUbA-5MJNzr",
        "outputId": "39cedc9e-71f1-455e-d49d-a65c3331bad5"
      },
      "execution_count": null,
      "outputs": [
        {
          "output_type": "stream",
          "name": "stdout",
          "text": [
            "Score for the Linear Regressor       : 0.3516958579191266\n",
            "Score for the Decision TreeRegressor : 0.9818720924853016\n",
            "Score for the KNN Regressor          : 0.9691072501054501\n",
            "Score for the XGBRegressor           : 0.9993039950486162\n"
          ]
        }
      ]
    },
    {
      "cell_type": "code",
      "source": [
        "linear_pred = linear.predict(x_test)\n",
        "dt_pred= dt.predict(x_test)\n",
        "knn_pred=knn.predict(x_test)\n",
        "xgb_pred=model.predict(x_test)"
      ],
      "metadata": {
        "id": "X19B4lUHJU6E"
      },
      "execution_count": null,
      "outputs": []
    },
    {
      "cell_type": "code",
      "source": [
        "pd.DataFrame({\"Actual\":y_test, \"linear_pred\":linear_pred,\"dt_pred\":dt_pred, \"knn_pred\":knn_pred,\"xgb_pred\":xgb_pred })"
      ],
      "metadata": {
        "colab": {
          "base_uri": "https://localhost:8080/",
          "height": 423
        },
        "id": "JIjH64mvJcJn",
        "outputId": "033913a7-1c92-45ba-e6d6-8ff96b34f2da"
      },
      "execution_count": null,
      "outputs": [
        {
          "output_type": "execute_result",
          "data": {
            "text/plain": [
              "      Actual   linear_pred       dt_pred  knn_pred      xgb_pred\n",
              "0    44686.0  38974.855064  43131.405594   44376.5  44951.828125\n",
              "1    27452.0  29427.038915  27275.000000   27094.4  27593.417969\n",
              "2    36520.0  35004.725838  36365.818182   36293.7  36501.437500\n",
              "3    31752.0  32582.467732  31821.700000   32223.9  31904.962891\n",
              "4    35230.0  35181.575292  36673.315789   35935.3  35092.058594\n",
              "..       ...           ...           ...       ...           ...\n",
              "430  36936.0  35670.069184  37092.826087   37587.5  37075.835938\n",
              "431  24196.0  26658.362941  24305.000000   24256.6  23899.521484\n",
              "432  40099.0  34248.176994  39263.171875   39569.3  40182.277344\n",
              "433  37490.0  37485.135508  38278.000000   37653.4  37504.265625\n",
              "434  32938.0  28018.849057  32650.734375   32545.2  32803.687500\n",
              "\n",
              "[435 rows x 5 columns]"
            ],
            "text/html": [
              "\n",
              "  <div id=\"df-ca794e4f-ead3-44f7-aa81-65c269245e61\">\n",
              "    <div class=\"colab-df-container\">\n",
              "      <div>\n",
              "<style scoped>\n",
              "    .dataframe tbody tr th:only-of-type {\n",
              "        vertical-align: middle;\n",
              "    }\n",
              "\n",
              "    .dataframe tbody tr th {\n",
              "        vertical-align: top;\n",
              "    }\n",
              "\n",
              "    .dataframe thead th {\n",
              "        text-align: right;\n",
              "    }\n",
              "</style>\n",
              "<table border=\"1\" class=\"dataframe\">\n",
              "  <thead>\n",
              "    <tr style=\"text-align: right;\">\n",
              "      <th></th>\n",
              "      <th>Actual</th>\n",
              "      <th>linear_pred</th>\n",
              "      <th>dt_pred</th>\n",
              "      <th>knn_pred</th>\n",
              "      <th>xgb_pred</th>\n",
              "    </tr>\n",
              "  </thead>\n",
              "  <tbody>\n",
              "    <tr>\n",
              "      <th>0</th>\n",
              "      <td>44686.0</td>\n",
              "      <td>38974.855064</td>\n",
              "      <td>43131.405594</td>\n",
              "      <td>44376.5</td>\n",
              "      <td>44951.828125</td>\n",
              "    </tr>\n",
              "    <tr>\n",
              "      <th>1</th>\n",
              "      <td>27452.0</td>\n",
              "      <td>29427.038915</td>\n",
              "      <td>27275.000000</td>\n",
              "      <td>27094.4</td>\n",
              "      <td>27593.417969</td>\n",
              "    </tr>\n",
              "    <tr>\n",
              "      <th>2</th>\n",
              "      <td>36520.0</td>\n",
              "      <td>35004.725838</td>\n",
              "      <td>36365.818182</td>\n",
              "      <td>36293.7</td>\n",
              "      <td>36501.437500</td>\n",
              "    </tr>\n",
              "    <tr>\n",
              "      <th>3</th>\n",
              "      <td>31752.0</td>\n",
              "      <td>32582.467732</td>\n",
              "      <td>31821.700000</td>\n",
              "      <td>32223.9</td>\n",
              "      <td>31904.962891</td>\n",
              "    </tr>\n",
              "    <tr>\n",
              "      <th>4</th>\n",
              "      <td>35230.0</td>\n",
              "      <td>35181.575292</td>\n",
              "      <td>36673.315789</td>\n",
              "      <td>35935.3</td>\n",
              "      <td>35092.058594</td>\n",
              "    </tr>\n",
              "    <tr>\n",
              "      <th>...</th>\n",
              "      <td>...</td>\n",
              "      <td>...</td>\n",
              "      <td>...</td>\n",
              "      <td>...</td>\n",
              "      <td>...</td>\n",
              "    </tr>\n",
              "    <tr>\n",
              "      <th>430</th>\n",
              "      <td>36936.0</td>\n",
              "      <td>35670.069184</td>\n",
              "      <td>37092.826087</td>\n",
              "      <td>37587.5</td>\n",
              "      <td>37075.835938</td>\n",
              "    </tr>\n",
              "    <tr>\n",
              "      <th>431</th>\n",
              "      <td>24196.0</td>\n",
              "      <td>26658.362941</td>\n",
              "      <td>24305.000000</td>\n",
              "      <td>24256.6</td>\n",
              "      <td>23899.521484</td>\n",
              "    </tr>\n",
              "    <tr>\n",
              "      <th>432</th>\n",
              "      <td>40099.0</td>\n",
              "      <td>34248.176994</td>\n",
              "      <td>39263.171875</td>\n",
              "      <td>39569.3</td>\n",
              "      <td>40182.277344</td>\n",
              "    </tr>\n",
              "    <tr>\n",
              "      <th>433</th>\n",
              "      <td>37490.0</td>\n",
              "      <td>37485.135508</td>\n",
              "      <td>38278.000000</td>\n",
              "      <td>37653.4</td>\n",
              "      <td>37504.265625</td>\n",
              "    </tr>\n",
              "    <tr>\n",
              "      <th>434</th>\n",
              "      <td>32938.0</td>\n",
              "      <td>28018.849057</td>\n",
              "      <td>32650.734375</td>\n",
              "      <td>32545.2</td>\n",
              "      <td>32803.687500</td>\n",
              "    </tr>\n",
              "  </tbody>\n",
              "</table>\n",
              "<p>435 rows × 5 columns</p>\n",
              "</div>\n",
              "      <button class=\"colab-df-convert\" onclick=\"convertToInteractive('df-ca794e4f-ead3-44f7-aa81-65c269245e61')\"\n",
              "              title=\"Convert this dataframe to an interactive table.\"\n",
              "              style=\"display:none;\">\n",
              "        \n",
              "  <svg xmlns=\"http://www.w3.org/2000/svg\" height=\"24px\"viewBox=\"0 0 24 24\"\n",
              "       width=\"24px\">\n",
              "    <path d=\"M0 0h24v24H0V0z\" fill=\"none\"/>\n",
              "    <path d=\"M18.56 5.44l.94 2.06.94-2.06 2.06-.94-2.06-.94-.94-2.06-.94 2.06-2.06.94zm-11 1L8.5 8.5l.94-2.06 2.06-.94-2.06-.94L8.5 2.5l-.94 2.06-2.06.94zm10 10l.94 2.06.94-2.06 2.06-.94-2.06-.94-.94-2.06-.94 2.06-2.06.94z\"/><path d=\"M17.41 7.96l-1.37-1.37c-.4-.4-.92-.59-1.43-.59-.52 0-1.04.2-1.43.59L10.3 9.45l-7.72 7.72c-.78.78-.78 2.05 0 2.83L4 21.41c.39.39.9.59 1.41.59.51 0 1.02-.2 1.41-.59l7.78-7.78 2.81-2.81c.8-.78.8-2.07 0-2.86zM5.41 20L4 18.59l7.72-7.72 1.47 1.35L5.41 20z\"/>\n",
              "  </svg>\n",
              "      </button>\n",
              "      \n",
              "  <style>\n",
              "    .colab-df-container {\n",
              "      display:flex;\n",
              "      flex-wrap:wrap;\n",
              "      gap: 12px;\n",
              "    }\n",
              "\n",
              "    .colab-df-convert {\n",
              "      background-color: #E8F0FE;\n",
              "      border: none;\n",
              "      border-radius: 50%;\n",
              "      cursor: pointer;\n",
              "      display: none;\n",
              "      fill: #1967D2;\n",
              "      height: 32px;\n",
              "      padding: 0 0 0 0;\n",
              "      width: 32px;\n",
              "    }\n",
              "\n",
              "    .colab-df-convert:hover {\n",
              "      background-color: #E2EBFA;\n",
              "      box-shadow: 0px 1px 2px rgba(60, 64, 67, 0.3), 0px 1px 3px 1px rgba(60, 64, 67, 0.15);\n",
              "      fill: #174EA6;\n",
              "    }\n",
              "\n",
              "    [theme=dark] .colab-df-convert {\n",
              "      background-color: #3B4455;\n",
              "      fill: #D2E3FC;\n",
              "    }\n",
              "\n",
              "    [theme=dark] .colab-df-convert:hover {\n",
              "      background-color: #434B5C;\n",
              "      box-shadow: 0px 1px 3px 1px rgba(0, 0, 0, 0.15);\n",
              "      filter: drop-shadow(0px 1px 2px rgba(0, 0, 0, 0.3));\n",
              "      fill: #FFFFFF;\n",
              "    }\n",
              "  </style>\n",
              "\n",
              "      <script>\n",
              "        const buttonEl =\n",
              "          document.querySelector('#df-ca794e4f-ead3-44f7-aa81-65c269245e61 button.colab-df-convert');\n",
              "        buttonEl.style.display =\n",
              "          google.colab.kernel.accessAllowed ? 'block' : 'none';\n",
              "\n",
              "        async function convertToInteractive(key) {\n",
              "          const element = document.querySelector('#df-ca794e4f-ead3-44f7-aa81-65c269245e61');\n",
              "          const dataTable =\n",
              "            await google.colab.kernel.invokeFunction('convertToInteractive',\n",
              "                                                     [key], {});\n",
              "          if (!dataTable) return;\n",
              "\n",
              "          const docLinkHtml = 'Like what you see? Visit the ' +\n",
              "            '<a target=\"_blank\" href=https://colab.research.google.com/notebooks/data_table.ipynb>data table notebook</a>'\n",
              "            + ' to learn more about interactive tables.';\n",
              "          element.innerHTML = '';\n",
              "          dataTable['output_type'] = 'display_data';\n",
              "          await google.colab.output.renderOutput(dataTable, element);\n",
              "          const docLink = document.createElement('div');\n",
              "          docLink.innerHTML = docLinkHtml;\n",
              "          element.appendChild(docLink);\n",
              "        }\n",
              "      </script>\n",
              "    </div>\n",
              "  </div>\n",
              "  "
            ]
          },
          "metadata": {},
          "execution_count": 60
        }
      ]
    }
  ],
  "metadata": {
    "colab": {
      "provenance": [],
      "authorship_tag": "ABX9TyP3WOsTlo3FHp+lwBN1wvw7",
      "include_colab_link": true
    },
    "kernelspec": {
      "display_name": "Python 3",
      "name": "python3"
    },
    "language_info": {
      "name": "python"
    }
  },
  "nbformat": 4,
  "nbformat_minor": 0
}